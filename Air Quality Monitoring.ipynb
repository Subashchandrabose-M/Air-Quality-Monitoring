{
 "cells": [
  {
   "cell_type": "code",
   "execution_count": 2,
   "id": "8c25828d-0313-434c-a5a4-48b8010dd98b",
   "metadata": {},
   "outputs": [
    {
     "name": "stdout",
     "output_type": "stream",
     "text": [
      "Requirement already satisfied: requests in c:\\users\\subas\\anaconda3\\lib\\site-packages (2.32.2)\n",
      "Requirement already satisfied: charset-normalizer<4,>=2 in c:\\users\\subas\\anaconda3\\lib\\site-packages (from requests) (2.0.4)\n",
      "Requirement already satisfied: idna<4,>=2.5 in c:\\users\\subas\\anaconda3\\lib\\site-packages (from requests) (3.7)\n",
      "Requirement already satisfied: urllib3<3,>=1.21.1 in c:\\users\\subas\\anaconda3\\lib\\site-packages (from requests) (2.2.2)\n",
      "Requirement already satisfied: certifi>=2017.4.17 in c:\\users\\subas\\anaconda3\\lib\\site-packages (from requests) (2024.8.30)\n"
     ]
    }
   ],
   "source": [
    "!pip install requests"
   ]
  },
  {
   "cell_type": "code",
   "execution_count": 82,
   "id": "493f5039-c120-4fcb-9239-b2473ea1d341",
   "metadata": {},
   "outputs": [
    {
     "name": "stdin",
     "output_type": "stream",
     "text": [
      "Enter the city name:  Poland\n"
     ]
    },
    {
     "name": "stdout",
     "output_type": "stream",
     "text": [
      "Air Quality in Poland: (AQI: 67)\n",
      "Pollutants:\n",
      "  co: 0.1 µg/m³\n",
      "  dew: 8 µg/m³\n",
      "  h: 100 µg/m³\n",
      "  no2: 17.8 µg/m³\n",
      "  o3: 7.8 µg/m³\n",
      "  p: 1017 µg/m³\n",
      "  pm10: 22 µg/m³\n",
      "  pm25: 67 µg/m³\n",
      "  r: 99 µg/m³\n",
      "  so2: 2.2 µg/m³\n",
      "  t: 8 µg/m³\n",
      "  w: 2 µg/m³\n"
     ]
    }
   ],
   "source": [
    "import requests\n",
    "\n",
    "def get_air_quality(city_name, waqi_token):\n",
    "    waqi_url = f\"https://api.waqi.info/feed/{city_name}/?token={waqi_token}\"\n",
    "    \n",
    "    response = requests.get(waqi_url)\n",
    "    air_quality_data = response.json()\n",
    "\n",
    "    if 'data' in air_quality_data and air_quality_data['data']:\n",
    "        aqi = air_quality_data['data']['aqi']\n",
    "        iaqi = air_quality_data['data'].get('iaqi', {})\n",
    "\n",
    "        print(f\"Air Quality in {city_name}: (AQI: {aqi})\")\n",
    "        print(\"Pollutants:\")\n",
    "        for pollutant, data in iaqi.items():\n",
    "            print(f\"  {pollutant}: {data['v']} µg/m³\")\n",
    "    else:\n",
    "        print(\"Air quality data not available.\")\n",
    "\n",
    "waqi_token = \"667d0df116fce45789e187f8d3c47ee3848c8885\"\n",
    "city_name = input(\"Enter the city name: \")\n",
    "get_air_quality(city_name, waqi_token)\n"
   ]
  },
  {
   "cell_type": "code",
   "execution_count": null,
   "id": "cc6a8eaa-825b-4174-8af8-671d62f4cdc5",
   "metadata": {},
   "outputs": [],
   "source": []
  }
 ],
 "metadata": {
  "kernelspec": {
   "display_name": "Python 3 (ipykernel)",
   "language": "python",
   "name": "python3"
  },
  "language_info": {
   "codemirror_mode": {
    "name": "ipython",
    "version": 3
   },
   "file_extension": ".py",
   "mimetype": "text/x-python",
   "name": "python",
   "nbconvert_exporter": "python",
   "pygments_lexer": "ipython3",
   "version": "3.12.4"
  }
 },
 "nbformat": 4,
 "nbformat_minor": 5
}
